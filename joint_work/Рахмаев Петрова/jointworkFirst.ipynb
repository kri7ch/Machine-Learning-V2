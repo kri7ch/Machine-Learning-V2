{
 "cells": [
  {
   "cell_type": "markdown",
   "id": "a05d8ddf-b3d6-44ed-9e57-8661e2c18e25",
   "metadata": {},
   "source": [
    "# Совместная работа по машинному обучения\n",
    "\n",
    "### Группа выполнившая работу\n",
    "* ##### 22П-1\n",
    "\n",
    "### Состав команды\n",
    "* ##### Рахмаев Данил\n",
    "* ##### Петрова Яна"
   ]
  },
  {
   "cell_type": "markdown",
   "id": "02b277f3-8074-4e11-8cd5-07104705aaf5",
   "metadata": {},
   "source": [
    "## Подключение библиотек"
   ]
  },
  {
   "cell_type": "code",
   "execution_count": 12,
   "id": "1f8a9ef5-d9d3-4b5d-b6d6-6d89ade14aa5",
   "metadata": {},
   "outputs": [],
   "source": [
    "import pandas\n",
    "import pandas as pd\n",
    "import nltk\n",
    "import string\n",
    "import re\n",
    "import pymorphy3\n",
    "\n",
    "import warnings\n",
    "warnings.filterwarnings('ignore')"
   ]
  },
  {
   "cell_type": "markdown",
   "id": "b52f13f1-ea92-4e81-8bdf-ba217be1a005",
   "metadata": {},
   "source": [
    "## Подключение датасета"
   ]
  },
  {
   "cell_type": "code",
   "execution_count": 14,
   "id": "db832f8f-14c7-49fe-986e-40bfa4136d7d",
   "metadata": {},
   "outputs": [],
   "source": [
    "df = pd.read_csv(\"real_estate_data.csv\")"
   ]
  },
  {
   "cell_type": "code",
   "execution_count": 15,
   "id": "8a544fec-6cb5-4c79-9cf7-1e77dfe2f4ea",
   "metadata": {},
   "outputs": [
    {
     "data": {
      "text/html": [
       "<div>\n",
       "<style scoped>\n",
       "    .dataframe tbody tr th:only-of-type {\n",
       "        vertical-align: middle;\n",
       "    }\n",
       "\n",
       "    .dataframe tbody tr th {\n",
       "        vertical-align: top;\n",
       "    }\n",
       "\n",
       "    .dataframe thead th {\n",
       "        text-align: right;\n",
       "    }\n",
       "</style>\n",
       "<table border=\"1\" class=\"dataframe\">\n",
       "  <thead>\n",
       "    <tr style=\"text-align: right;\">\n",
       "      <th></th>\n",
       "      <th>id</th>\n",
       "      <th>type</th>\n",
       "      <th>sub_type</th>\n",
       "      <th>start_date</th>\n",
       "      <th>end_date</th>\n",
       "      <th>listing_type</th>\n",
       "      <th>tom</th>\n",
       "      <th>building_age</th>\n",
       "      <th>total_floor_count</th>\n",
       "      <th>floor_no</th>\n",
       "      <th>room_count</th>\n",
       "      <th>size</th>\n",
       "      <th>address</th>\n",
       "      <th>furnished</th>\n",
       "      <th>heating_type</th>\n",
       "      <th>price</th>\n",
       "      <th>price_currency</th>\n",
       "    </tr>\n",
       "  </thead>\n",
       "  <tbody>\n",
       "    <tr>\n",
       "      <th>0</th>\n",
       "      <td>1</td>\n",
       "      <td>Konut</td>\n",
       "      <td>Rezidans</td>\n",
       "      <td>12/10/18</td>\n",
       "      <td>1/9/19</td>\n",
       "      <td>2</td>\n",
       "      <td>30</td>\n",
       "      <td>0</td>\n",
       "      <td>20 ve üzeri</td>\n",
       "      <td>2</td>\n",
       "      <td>2+1</td>\n",
       "      <td>90.0</td>\n",
       "      <td>İstanbul/Kartal/Kordonboyu</td>\n",
       "      <td>NaN</td>\n",
       "      <td>Fancoil</td>\n",
       "      <td>3500.0</td>\n",
       "      <td>TRY</td>\n",
       "    </tr>\n",
       "    <tr>\n",
       "      <th>1</th>\n",
       "      <td>2</td>\n",
       "      <td>Konut</td>\n",
       "      <td>Daire</td>\n",
       "      <td>2/13/19</td>\n",
       "      <td>NaN</td>\n",
       "      <td>1</td>\n",
       "      <td>14</td>\n",
       "      <td>0</td>\n",
       "      <td>20 ve üzeri</td>\n",
       "      <td>20 ve üzeri</td>\n",
       "      <td>1+0</td>\n",
       "      <td>43.0</td>\n",
       "      <td>İstanbul/Kartal/Kordonboyu</td>\n",
       "      <td>NaN</td>\n",
       "      <td>Fancoil</td>\n",
       "      <td>490000.0</td>\n",
       "      <td>TRY</td>\n",
       "    </tr>\n",
       "    <tr>\n",
       "      <th>2</th>\n",
       "      <td>3</td>\n",
       "      <td>Konut</td>\n",
       "      <td>Daire</td>\n",
       "      <td>10/9/18</td>\n",
       "      <td>11/8/18</td>\n",
       "      <td>1</td>\n",
       "      <td>30</td>\n",
       "      <td>0</td>\n",
       "      <td>1</td>\n",
       "      <td>Yüksek Giriş</td>\n",
       "      <td>2+1</td>\n",
       "      <td>NaN</td>\n",
       "      <td>Tekirdağ/Çorlu/Reşadiye</td>\n",
       "      <td>NaN</td>\n",
       "      <td>Fancoil</td>\n",
       "      <td>155000.0</td>\n",
       "      <td>TRY</td>\n",
       "    </tr>\n",
       "    <tr>\n",
       "      <th>3</th>\n",
       "      <td>4</td>\n",
       "      <td>Konut</td>\n",
       "      <td>Rezidans</td>\n",
       "      <td>9/10/18</td>\n",
       "      <td>10/10/18</td>\n",
       "      <td>1</td>\n",
       "      <td>30</td>\n",
       "      <td>3</td>\n",
       "      <td>20 ve üzeri</td>\n",
       "      <td>20 ve üzeri</td>\n",
       "      <td>6+1</td>\n",
       "      <td>450.0</td>\n",
       "      <td>İstanbul/Beşiktaş/Levent</td>\n",
       "      <td>NaN</td>\n",
       "      <td>Fancoil</td>\n",
       "      <td>32500000.0</td>\n",
       "      <td>TRY</td>\n",
       "    </tr>\n",
       "    <tr>\n",
       "      <th>4</th>\n",
       "      <td>5</td>\n",
       "      <td>Konut</td>\n",
       "      <td>Rezidans</td>\n",
       "      <td>12/10/18</td>\n",
       "      <td>1/9/19</td>\n",
       "      <td>1</td>\n",
       "      <td>30</td>\n",
       "      <td>0</td>\n",
       "      <td>20 ve üzeri</td>\n",
       "      <td>2</td>\n",
       "      <td>2+1</td>\n",
       "      <td>90.0</td>\n",
       "      <td>İstanbul/Kartal/Kordonboyu</td>\n",
       "      <td>NaN</td>\n",
       "      <td>Fancoil</td>\n",
       "      <td>1450000.0</td>\n",
       "      <td>TRY</td>\n",
       "    </tr>\n",
       "  </tbody>\n",
       "</table>\n",
       "</div>"
      ],
      "text/plain": [
       "   id   type  sub_type start_date  end_date  listing_type  tom building_age  \\\n",
       "0   1  Konut  Rezidans   12/10/18    1/9/19             2   30            0   \n",
       "1   2  Konut     Daire    2/13/19       NaN             1   14            0   \n",
       "2   3  Konut     Daire    10/9/18   11/8/18             1   30            0   \n",
       "3   4  Konut  Rezidans    9/10/18  10/10/18             1   30            3   \n",
       "4   5  Konut  Rezidans   12/10/18    1/9/19             1   30            0   \n",
       "\n",
       "  total_floor_count      floor_no room_count   size  \\\n",
       "0       20 ve üzeri             2        2+1   90.0   \n",
       "1       20 ve üzeri   20 ve üzeri        1+0   43.0   \n",
       "2                 1  Yüksek Giriş        2+1    NaN   \n",
       "3       20 ve üzeri   20 ve üzeri        6+1  450.0   \n",
       "4       20 ve üzeri             2        2+1   90.0   \n",
       "\n",
       "                      address  furnished heating_type       price  \\\n",
       "0  İstanbul/Kartal/Kordonboyu        NaN      Fancoil      3500.0   \n",
       "1  İstanbul/Kartal/Kordonboyu        NaN      Fancoil    490000.0   \n",
       "2     Tekirdağ/Çorlu/Reşadiye        NaN      Fancoil    155000.0   \n",
       "3    İstanbul/Beşiktaş/Levent        NaN      Fancoil  32500000.0   \n",
       "4  İstanbul/Kartal/Kordonboyu        NaN      Fancoil   1450000.0   \n",
       "\n",
       "  price_currency  \n",
       "0            TRY  \n",
       "1            TRY  \n",
       "2            TRY  \n",
       "3            TRY  \n",
       "4            TRY  "
      ]
     },
     "execution_count": 15,
     "metadata": {},
     "output_type": "execute_result"
    }
   ],
   "source": [
    "df.head()"
   ]
  },
  {
   "cell_type": "markdown",
   "id": "850161af-66f8-4fca-aa89-b1ea76ac479a",
   "metadata": {},
   "source": [
    "## Описание данных"
   ]
  },
  {
   "cell_type": "markdown",
   "id": "e65e081b-2ef4-4c5a-a115-e7c427cf5350",
   "metadata": {},
   "source": [
    "* id - Уникальный идентификационный номер объявления о недвижимости.\n",
    "* type - Основной тип объекта недвижимости.\n",
    "* sub_type - Подтип объекта недвижимости, уточняющий категорию.\n",
    "* start_date - Дата активации и размещения объявления на рынке.\n",
    "* end_date - Дата снятия объявления с рынка.\n",
    "* listing_type - Тип списка: на продажу (\"Satılık\") или в аренду (\"Kiralık\").\n",
    "* tom - Время, в течение которого объявление было активно на рынке.\n",
    "* building_age - Возраст здания, в котором находится объект.\n",
    "* total_floor_count - Общее количество этажей в здании.\n",
    "* floor_no - Этаж, на котором расположен объект, включая специальные категории (например, \"Цокольный\", \"Пентхаус\").\n",
    "* room_count - Количество комнат в формате \"X+Y\".\n",
    "* size - Площадь объекта в квадратных метрах.\n",
    "* address - Адрес объекта.\n",
    "* furnished - Уровень меблировки объекта.\n",
    "* heating_type - Тип системы отопления в здании.\n",
    "* price - Цена объекта недвижимости.\n",
    "* price_currency - Валюта, в которой указана цена.\n",
    "\n",
    "#### Целевой признак - Price (Цена объекта недвижимости)."
   ]
  },
  {
   "cell_type": "markdown",
   "id": "149ed448-8f66-493d-b647-e7454234a0f2",
   "metadata": {},
   "source": [
    "## Разведочный анализ данных"
   ]
  },
  {
   "cell_type": "code",
   "execution_count": 31,
   "id": "a19449cc-1784-4475-9171-c216786fcba6",
   "metadata": {},
   "outputs": [
    {
     "data": {
      "text/plain": [
       "(403487, 17)"
      ]
     },
     "execution_count": 31,
     "metadata": {},
     "output_type": "execute_result"
    }
   ],
   "source": [
    "df.shape #Количества строк и признаков"
   ]
  },
  {
   "cell_type": "markdown",
   "id": "7f04e07d-e53d-4567-9f3b-2fae7e784948",
   "metadata": {},
   "source": [
    "* В датасете присутствует 403487 записи, и 17 полей для записей"
   ]
  },
  {
   "cell_type": "code",
   "execution_count": 36,
   "id": "ffdd265c-ddb9-46ac-bb19-17268b8cb3e0",
   "metadata": {},
   "outputs": [
    {
     "data": {
      "text/plain": [
       "id                     int64\n",
       "type                  object\n",
       "sub_type              object\n",
       "start_date            object\n",
       "end_date              object\n",
       "listing_type           int64\n",
       "tom                    int64\n",
       "building_age          object\n",
       "total_floor_count     object\n",
       "floor_no              object\n",
       "room_count            object\n",
       "size                 float64\n",
       "address               object\n",
       "furnished            float64\n",
       "heating_type          object\n",
       "price                float64\n",
       "price_currency        object\n",
       "dtype: object"
      ]
     },
     "execution_count": 36,
     "metadata": {},
     "output_type": "execute_result"
    }
   ],
   "source": [
    "df.dtypes #Признаки и их тип"
   ]
  },
  {
   "cell_type": "markdown",
   "id": "210b1f47-bb74-4f1f-9159-c6801108e4ef",
   "metadata": {},
   "source": [
    "* В датасете приобладает строковый тип данных"
   ]
  },
  {
   "cell_type": "code",
   "execution_count": 40,
   "id": "66e126ac-c162-4142-90fb-77eeaa1988e2",
   "metadata": {},
   "outputs": [
    {
     "name": "stdout",
     "output_type": "stream",
     "text": [
      "<class 'pandas.core.frame.DataFrame'>\n",
      "RangeIndex: 403487 entries, 0 to 403486\n",
      "Data columns (total 17 columns):\n",
      " #   Column             Non-Null Count   Dtype  \n",
      "---  ------             --------------   -----  \n",
      " 0   id                 403487 non-null  int64  \n",
      " 1   type               403487 non-null  object \n",
      " 2   sub_type           403487 non-null  object \n",
      " 3   start_date         403487 non-null  object \n",
      " 4   end_date           266298 non-null  object \n",
      " 5   listing_type       403487 non-null  int64  \n",
      " 6   tom                403487 non-null  int64  \n",
      " 7   building_age       376097 non-null  object \n",
      " 8   total_floor_count  375466 non-null  object \n",
      " 9   floor_no           368191 non-null  object \n",
      " 10  room_count         403487 non-null  object \n",
      " 11  size               257481 non-null  float64\n",
      " 12  address            403487 non-null  object \n",
      " 13  furnished          0 non-null       float64\n",
      " 14  heating_type       375517 non-null  object \n",
      " 15  price              402772 non-null  float64\n",
      " 16  price_currency     402772 non-null  object \n",
      "dtypes: float64(3), int64(3), object(11)\n",
      "memory usage: 52.3+ MB\n"
     ]
    }
   ],
   "source": [
    "df.info()"
   ]
  },
  {
   "cell_type": "markdown",
   "id": "96a6299f-1010-4afd-804a-7c7ddb5d3985",
   "metadata": {},
   "source": [
    "* При анализе общений информации, можно заметить, что в датасете присутствуют пропуски в полях"
   ]
  },
  {
   "cell_type": "code",
   "execution_count": 55,
   "id": "002fb5c7-c577-4642-853d-c22e8b5d5f5b",
   "metadata": {},
   "outputs": [
    {
     "name": "stdout",
     "output_type": "stream",
     "text": [
      "Кол-во пропусков в колонке id = 0\n",
      "Кол-во пропусков в колонке type = 0\n",
      "Кол-во пропусков в колонке sub_type = 0\n",
      "Кол-во пропусков в колонке start_date = 0\n",
      "Кол-во пропусков в колонке end_date = 137189\n",
      "Кол-во пропусков в колонке listing_type = 0\n",
      "Кол-во пропусков в колонке tom = 0\n",
      "Кол-во пропусков в колонке building_age = 27390\n",
      "Кол-во пропусков в колонке total_floor_count = 28021\n",
      "Кол-во пропусков в колонке floor_no = 35296\n",
      "Кол-во пропусков в колонке room_count = 0\n",
      "Кол-во пропусков в колонке size = 146006\n",
      "Кол-во пропусков в колонке address = 0\n",
      "Кол-во пропусков в колонке furnished = 403487\n",
      "Кол-во пропусков в колонке heating_type = 27970\n",
      "Кол-во пропусков в колонке price = 715\n",
      "Кол-во пропусков в колонке price_currency = 715\n"
     ]
    }
   ],
   "source": [
    "# Выявление признаков с пропусками\n",
    "for col in df.columns:\n",
    "    print('Кол-во пропусков в колонке %s = %d' % (col, df[col].isna().sum()))"
   ]
  },
  {
   "cell_type": "markdown",
   "id": "59e1197d-249f-4cad-bd85-2b9776771f35",
   "metadata": {},
   "source": [
    "* Анализ показал что пропуски есть в половине признаков"
   ]
  },
  {
   "cell_type": "code",
   "execution_count": 57,
   "id": "89db06c7-3f67-4a11-bd5c-ae63748e9d12",
   "metadata": {},
   "outputs": [
    {
     "data": {
      "text/html": [
       "<div>\n",
       "<style scoped>\n",
       "    .dataframe tbody tr th:only-of-type {\n",
       "        vertical-align: middle;\n",
       "    }\n",
       "\n",
       "    .dataframe tbody tr th {\n",
       "        vertical-align: top;\n",
       "    }\n",
       "\n",
       "    .dataframe thead th {\n",
       "        text-align: right;\n",
       "    }\n",
       "</style>\n",
       "<table border=\"1\" class=\"dataframe\">\n",
       "  <thead>\n",
       "    <tr style=\"text-align: right;\">\n",
       "      <th></th>\n",
       "      <th>id</th>\n",
       "      <th>listing_type</th>\n",
       "      <th>tom</th>\n",
       "      <th>size</th>\n",
       "      <th>furnished</th>\n",
       "      <th>price</th>\n",
       "    </tr>\n",
       "  </thead>\n",
       "  <tbody>\n",
       "    <tr>\n",
       "      <th>count</th>\n",
       "      <td>403487.00000</td>\n",
       "      <td>403487.000000</td>\n",
       "      <td>403487.000000</td>\n",
       "      <td>257481.000000</td>\n",
       "      <td>0.0</td>\n",
       "      <td>4.027720e+05</td>\n",
       "    </tr>\n",
       "    <tr>\n",
       "      <th>mean</th>\n",
       "      <td>201744.00000</td>\n",
       "      <td>1.294235</td>\n",
       "      <td>57.022739</td>\n",
       "      <td>279.349094</td>\n",
       "      <td>NaN</td>\n",
       "      <td>3.546417e+05</td>\n",
       "    </tr>\n",
       "    <tr>\n",
       "      <th>std</th>\n",
       "      <td>116476.80837</td>\n",
       "      <td>0.467733</td>\n",
       "      <td>44.358933</td>\n",
       "      <td>9429.195331</td>\n",
       "      <td>NaN</td>\n",
       "      <td>4.809503e+06</td>\n",
       "    </tr>\n",
       "    <tr>\n",
       "      <th>min</th>\n",
       "      <td>1.00000</td>\n",
       "      <td>1.000000</td>\n",
       "      <td>0.000000</td>\n",
       "      <td>1.000000</td>\n",
       "      <td>NaN</td>\n",
       "      <td>-2.500000e+02</td>\n",
       "    </tr>\n",
       "    <tr>\n",
       "      <th>25%</th>\n",
       "      <td>100872.50000</td>\n",
       "      <td>1.000000</td>\n",
       "      <td>29.000000</td>\n",
       "      <td>85.000000</td>\n",
       "      <td>NaN</td>\n",
       "      <td>2.500000e+03</td>\n",
       "    </tr>\n",
       "    <tr>\n",
       "      <th>50%</th>\n",
       "      <td>201744.00000</td>\n",
       "      <td>1.000000</td>\n",
       "      <td>40.000000</td>\n",
       "      <td>110.000000</td>\n",
       "      <td>NaN</td>\n",
       "      <td>1.990000e+05</td>\n",
       "    </tr>\n",
       "    <tr>\n",
       "      <th>75%</th>\n",
       "      <td>302615.50000</td>\n",
       "      <td>2.000000</td>\n",
       "      <td>90.000000</td>\n",
       "      <td>140.000000</td>\n",
       "      <td>NaN</td>\n",
       "      <td>3.420000e+05</td>\n",
       "    </tr>\n",
       "    <tr>\n",
       "      <th>max</th>\n",
       "      <td>403487.00000</td>\n",
       "      <td>3.000000</td>\n",
       "      <td>180.000000</td>\n",
       "      <td>948235.000000</td>\n",
       "      <td>NaN</td>\n",
       "      <td>2.000000e+09</td>\n",
       "    </tr>\n",
       "  </tbody>\n",
       "</table>\n",
       "</div>"
      ],
      "text/plain": [
       "                 id   listing_type            tom           size  furnished  \\\n",
       "count  403487.00000  403487.000000  403487.000000  257481.000000        0.0   \n",
       "mean   201744.00000       1.294235      57.022739     279.349094        NaN   \n",
       "std    116476.80837       0.467733      44.358933    9429.195331        NaN   \n",
       "min         1.00000       1.000000       0.000000       1.000000        NaN   \n",
       "25%    100872.50000       1.000000      29.000000      85.000000        NaN   \n",
       "50%    201744.00000       1.000000      40.000000     110.000000        NaN   \n",
       "75%    302615.50000       2.000000      90.000000     140.000000        NaN   \n",
       "max    403487.00000       3.000000     180.000000  948235.000000        NaN   \n",
       "\n",
       "              price  \n",
       "count  4.027720e+05  \n",
       "mean   3.546417e+05  \n",
       "std    4.809503e+06  \n",
       "min   -2.500000e+02  \n",
       "25%    2.500000e+03  \n",
       "50%    1.990000e+05  \n",
       "75%    3.420000e+05  \n",
       "max    2.000000e+09  "
      ]
     },
     "execution_count": 57,
     "metadata": {},
     "output_type": "execute_result"
    }
   ],
   "source": [
    "# Статистика для всех (числовых) признаков\n",
    "df.describe()"
   ]
  },
  {
   "cell_type": "markdown",
   "id": "0982813f-22f9-4e41-bdee-86266b022f2a",
   "metadata": {},
   "source": [
    "## Предварительная обработка данных"
   ]
  },
  {
   "cell_type": "code",
   "execution_count": null,
   "id": "747253b2-a49d-4ddd-9439-2ae3ff8e8609",
   "metadata": {},
   "outputs": [],
   "source": []
  }
 ],
 "metadata": {
  "kernelspec": {
   "display_name": "Python 3 (ipykernel)",
   "language": "python",
   "name": "python3"
  },
  "language_info": {
   "codemirror_mode": {
    "name": "ipython",
    "version": 3
   },
   "file_extension": ".py",
   "mimetype": "text/x-python",
   "name": "python",
   "nbconvert_exporter": "python",
   "pygments_lexer": "ipython3",
   "version": "3.12.4"
  }
 },
 "nbformat": 4,
 "nbformat_minor": 5
}
